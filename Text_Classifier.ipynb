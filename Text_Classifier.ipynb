{
  "nbformat": 4,
  "nbformat_minor": 0,
  "metadata": {
    "colab": {
      "name": "Text Classifier.ipynb",
      "version": "0.3.2",
      "provenance": [],
      "include_colab_link": true
    },
    "kernelspec": {
      "name": "python3",
      "display_name": "Python 3"
    }
  },
  "cells": [
    {
      "cell_type": "markdown",
      "metadata": {
        "id": "view-in-github",
        "colab_type": "text"
      },
      "source": [
        "<a href=\"https://colab.research.google.com/github/xijunlee/tensorflow-learning/blob/master/Text_Classifier.ipynb\" target=\"_parent\"><img src=\"https://colab.research.google.com/assets/colab-badge.svg\" alt=\"Open In Colab\"/></a>"
      ]
    },
    {
      "metadata": {
        "id": "a1VCRgtjbHQl",
        "colab_type": "code",
        "colab": {
          "base_uri": "https://localhost:8080/",
          "height": 71
        },
        "outputId": "0e20c16e-1c74-40f5-a6e4-c72667c7afc5"
      },
      "cell_type": "code",
      "source": [
        "import tensorflow as tf\n",
        "from tensorflow import keras\n",
        "\n",
        "import numpy as np\n",
        "\n",
        "imdb = keras.datasets.imdb\n",
        "\n",
        "(train_data, train_labels), (test_data, test_labels) = imdb.load_data(num_words=10000)"
      ],
      "execution_count": 1,
      "outputs": [
        {
          "output_type": "stream",
          "text": [
            "Downloading data from https://storage.googleapis.com/tensorflow/tf-keras-datasets/imdb.npz\n",
            "17465344/17464789 [==============================] - 0s 0us/step\n"
          ],
          "name": "stdout"
        }
      ]
    },
    {
      "metadata": {
        "id": "3oxhfqXibYCM",
        "colab_type": "code",
        "colab": {
          "base_uri": "https://localhost:8080/",
          "height": 71
        },
        "outputId": "fd95f068-0188-4626-ee42-85ca675b13ed"
      },
      "cell_type": "code",
      "source": [
        "# A dictionary mapping words to an integer index\n",
        "word_index = imdb.get_word_index()\n",
        "\n",
        "# The first indices are reserved\n",
        "word_index = {k:(v+3) for k,v in word_index.items()} \n",
        "word_index[\"<PAD>\"] = 0\n",
        "word_index[\"<START>\"] = 1\n",
        "word_index[\"<UNK>\"] = 2  # unknown\n",
        "word_index[\"<UNUSED>\"] = 3\n",
        "\n",
        "reverse_word_index = dict([(value, key) for (key, value) in word_index.items()])\n",
        "\n",
        "def decode_review(text):\n",
        "    return ' '.join([reverse_word_index.get(i, '?') for i in text])"
      ],
      "execution_count": 2,
      "outputs": [
        {
          "output_type": "stream",
          "text": [
            "Downloading data from https://storage.googleapis.com/tensorflow/tf-keras-datasets/imdb_word_index.json\n",
            "1646592/1641221 [==============================] - 0s 0us/step\n"
          ],
          "name": "stdout"
        }
      ]
    },
    {
      "metadata": {
        "id": "7vK-slNFbb2E",
        "colab_type": "code",
        "colab": {
          "base_uri": "https://localhost:8080/",
          "height": 54
        },
        "outputId": "edab68be-de1a-4d3d-82a2-d8478bb2f271"
      },
      "cell_type": "code",
      "source": [
        "decode_review(train_data[0])"
      ],
      "execution_count": 3,
      "outputs": [
        {
          "output_type": "execute_result",
          "data": {
            "text/plain": [
              "\"<START> this film was just brilliant casting location scenery story direction everyone's really suited the part they played and you could just imagine being there robert <UNK> is an amazing actor and now the same being director <UNK> father came from the same scottish island as myself so i loved the fact there was a real connection with this film the witty remarks throughout the film were great it was just brilliant so much that i bought the film as soon as it was released for <UNK> and would recommend it to everyone to watch and the fly fishing was amazing really cried at the end it was so sad and you know what they say if you cry at a film it must have been good and this definitely was also <UNK> to the two little boy's that played the <UNK> of norman and paul they were just brilliant children are often left out of the <UNK> list i think because the stars that play them all grown up are such a big profile for the whole film but these children are amazing and should be praised for what they have done don't you think the whole story was so lovely because it was true and was someone's life after all that was shared with us all\""
            ]
          },
          "metadata": {
            "tags": []
          },
          "execution_count": 3
        }
      ]
    },
    {
      "metadata": {
        "id": "8lRk3c-Bbh5Z",
        "colab_type": "code",
        "colab": {}
      },
      "cell_type": "code",
      "source": [
        "train_data = keras.preprocessing.sequence.pad_sequences(train_data,\n",
        "                                                        value=word_index[\"<PAD>\"],\n",
        "                                                        padding='post',\n",
        "                                                        maxlen=256)\n",
        "\n",
        "test_data = keras.preprocessing.sequence.pad_sequences(test_data,\n",
        "                                                       value=word_index[\"<PAD>\"],\n",
        "                                                       padding='post',\n",
        "                                                       maxlen=256)"
      ],
      "execution_count": 0,
      "outputs": []
    },
    {
      "metadata": {
        "id": "CFPZPmRHboEt",
        "colab_type": "code",
        "colab": {
          "base_uri": "https://localhost:8080/",
          "height": 272
        },
        "outputId": "d6abba84-0c25-49f1-e693-fea2d71f8d0b"
      },
      "cell_type": "code",
      "source": [
        "# input shape is the vocabulary count used for the movie reviews (10,000 words)\n",
        "vocab_size = 10000\n",
        "\n",
        "model = keras.Sequential()\n",
        "model.add(keras.layers.Embedding(vocab_size, 16))\n",
        "model.add(keras.layers.GlobalAveragePooling1D())\n",
        "model.add(keras.layers.Dense(16, activation=tf.nn.relu))\n",
        "model.add(keras.layers.Dense(1, activation=tf.nn.sigmoid))\n",
        "\n",
        "model.summary()"
      ],
      "execution_count": 6,
      "outputs": [
        {
          "output_type": "stream",
          "text": [
            "_________________________________________________________________\n",
            "Layer (type)                 Output Shape              Param #   \n",
            "=================================================================\n",
            "embedding (Embedding)        (None, None, 16)          160000    \n",
            "_________________________________________________________________\n",
            "global_average_pooling1d (Gl (None, 16)                0         \n",
            "_________________________________________________________________\n",
            "dense (Dense)                (None, 16)                272       \n",
            "_________________________________________________________________\n",
            "dense_1 (Dense)              (None, 1)                 17        \n",
            "=================================================================\n",
            "Total params: 160,289\n",
            "Trainable params: 160,289\n",
            "Non-trainable params: 0\n",
            "_________________________________________________________________\n"
          ],
          "name": "stdout"
        }
      ]
    },
    {
      "metadata": {
        "id": "YaKO8IL2gmT5",
        "colab_type": "code",
        "colab": {
          "base_uri": "https://localhost:8080/",
          "height": 734
        },
        "outputId": "5b7cf945-8012-4258-9598-3fe7fd79e7e4"
      },
      "cell_type": "code",
      "source": [
        "model.compile(optimizer=tf.train.AdamOptimizer(),\n",
        "              loss='binary_crossentropy',\n",
        "              metrics=['accuracy'])\n",
        "\n",
        "x_val = train_data[:10000]\n",
        "partial_x_train = train_data[10000:]\n",
        "\n",
        "y_val = train_labels[:10000]\n",
        "partial_y_train = train_labels[10000:]\n",
        "\n",
        "history = model.fit(partial_x_train,\n",
        "                    partial_y_train,\n",
        "                    epochs=20,\n",
        "                    batch_size=512,\n",
        "                    validation_data=(x_val, y_val),\n",
        "                    verbose=1)"
      ],
      "execution_count": 8,
      "outputs": [
        {
          "output_type": "stream",
          "text": [
            "Train on 15000 samples, validate on 10000 samples\n",
            "Epoch 1/20\n",
            "15000/15000 [==============================] - 1s 76us/step - loss: 0.3953 - acc: 0.8785 - val_loss: 0.4146 - val_acc: 0.8541\n",
            "Epoch 2/20\n",
            "15000/15000 [==============================] - 1s 63us/step - loss: 0.3720 - acc: 0.8832 - val_loss: 0.3957 - val_acc: 0.8597\n",
            "Epoch 3/20\n",
            "15000/15000 [==============================] - 1s 62us/step - loss: 0.3509 - acc: 0.8888 - val_loss: 0.3790 - val_acc: 0.8633\n",
            "Epoch 4/20\n",
            "15000/15000 [==============================] - 1s 61us/step - loss: 0.3318 - acc: 0.8935 - val_loss: 0.3647 - val_acc: 0.8658\n",
            "Epoch 5/20\n",
            "15000/15000 [==============================] - 1s 60us/step - loss: 0.3142 - acc: 0.8972 - val_loss: 0.3521 - val_acc: 0.8692\n",
            "Epoch 6/20\n",
            "15000/15000 [==============================] - 1s 61us/step - loss: 0.2986 - acc: 0.9007 - val_loss: 0.3409 - val_acc: 0.8725\n",
            "Epoch 7/20\n",
            "15000/15000 [==============================] - 1s 63us/step - loss: 0.2838 - acc: 0.9047 - val_loss: 0.3316 - val_acc: 0.8731\n",
            "Epoch 8/20\n",
            "15000/15000 [==============================] - 1s 62us/step - loss: 0.2711 - acc: 0.9075 - val_loss: 0.3232 - val_acc: 0.8763\n",
            "Epoch 9/20\n",
            "15000/15000 [==============================] - 1s 62us/step - loss: 0.2585 - acc: 0.9129 - val_loss: 0.3165 - val_acc: 0.8779\n",
            "Epoch 10/20\n",
            "15000/15000 [==============================] - 1s 62us/step - loss: 0.2473 - acc: 0.9167 - val_loss: 0.3099 - val_acc: 0.8797\n",
            "Epoch 11/20\n",
            "15000/15000 [==============================] - 1s 61us/step - loss: 0.2370 - acc: 0.9187 - val_loss: 0.3046 - val_acc: 0.8816\n",
            "Epoch 12/20\n",
            "15000/15000 [==============================] - 1s 63us/step - loss: 0.2269 - acc: 0.9219 - val_loss: 0.3000 - val_acc: 0.8809\n",
            "Epoch 13/20\n",
            "15000/15000 [==============================] - 1s 62us/step - loss: 0.2180 - acc: 0.9250 - val_loss: 0.2966 - val_acc: 0.8822\n",
            "Epoch 14/20\n",
            "15000/15000 [==============================] - 1s 62us/step - loss: 0.2095 - acc: 0.9284 - val_loss: 0.2929 - val_acc: 0.8829\n",
            "Epoch 15/20\n",
            "15000/15000 [==============================] - 1s 62us/step - loss: 0.2009 - acc: 0.9311 - val_loss: 0.2903 - val_acc: 0.8840\n",
            "Epoch 16/20\n",
            "15000/15000 [==============================] - 1s 62us/step - loss: 0.1929 - acc: 0.9347 - val_loss: 0.2880 - val_acc: 0.8837\n",
            "Epoch 17/20\n",
            "15000/15000 [==============================] - 1s 61us/step - loss: 0.1858 - acc: 0.9374 - val_loss: 0.2862 - val_acc: 0.8847\n",
            "Epoch 18/20\n",
            "15000/15000 [==============================] - 1s 62us/step - loss: 0.1787 - acc: 0.9415 - val_loss: 0.2883 - val_acc: 0.8817\n",
            "Epoch 19/20\n",
            "15000/15000 [==============================] - 1s 62us/step - loss: 0.1733 - acc: 0.9424 - val_loss: 0.2837 - val_acc: 0.8861\n",
            "Epoch 20/20\n",
            "15000/15000 [==============================] - 1s 62us/step - loss: 0.1658 - acc: 0.9465 - val_loss: 0.2839 - val_acc: 0.8848\n"
          ],
          "name": "stdout"
        }
      ]
    },
    {
      "metadata": {
        "id": "vlhBjpHxhhRo",
        "colab_type": "code",
        "colab": {
          "base_uri": "https://localhost:8080/",
          "height": 51
        },
        "outputId": "d2c72213-4ca7-4279-8c61-e130e823bec7"
      },
      "cell_type": "code",
      "source": [
        "results = model.evaluate(test_data, test_labels)\n",
        "\n",
        "print(results)"
      ],
      "execution_count": 9,
      "outputs": [
        {
          "output_type": "stream",
          "text": [
            "25000/25000 [==============================] - 1s 36us/step\n",
            "[0.29973540259361264, 0.87896]\n"
          ],
          "name": "stdout"
        }
      ]
    }
  ]
}